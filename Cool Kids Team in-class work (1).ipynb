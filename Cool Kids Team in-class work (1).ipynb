{
 "cells": [
  {
   "cell_type": "code",
   "execution_count": 1,
   "id": "816468cc-414e-4a07-a8d9-19129bfc3ed9",
   "metadata": {
    "tags": []
   },
   "outputs": [
    {
     "name": "stdout",
     "output_type": "stream",
     "text": [
      "0 3 17\n"
     ]
    },
    {
     "data": {
      "text/plain": [
       "17"
      ]
     },
     "execution_count": 1,
     "metadata": {},
     "output_type": "execute_result"
    }
   ],
   "source": [
    "def get_max(a_list):\n",
    "    for i in range(len(a_list)):\n",
    "        previous_el = a_list[i-1]\n",
    "        current_el = a_list[i]\n",
    "        print(i, previous_el, current_el)\n",
    "        if previous_el >= current_el:\n",
    "            max_el = previous_el\n",
    "        else:\n",
    "            max_el = current_el\n",
    "        if previous_el <= current_el:\n",
    "            return max_el\n",
    "        print(max_el)\n",
    "    return max_el\n",
    "\n",
    "a_list = [17, 9, 10, 3]\n",
    "\n",
    "get_max(a_list)"
   ]
  },
  {
   "cell_type": "code",
   "execution_count": 2,
   "id": "e266a7be-3bfb-4792-b6ee-c474484497de",
   "metadata": {
    "tags": []
   },
   "outputs": [],
   "source": [
    "# names: Ian Huang, Amitha Bhat, Ziyang Chen, Zekai Wu\n",
    "# team: Cool Kids"
   ]
  },
  {
   "cell_type": "code",
   "execution_count": null,
   "id": "1fc811a0-df36-489e-8dc2-9fedc723747d",
   "metadata": {},
   "outputs": [],
   "source": []
  }
 ],
 "metadata": {
  "kernelspec": {
   "display_name": "Python 3 (ipykernel)",
   "language": "python",
   "name": "python3"
  },
  "language_info": {
   "codemirror_mode": {
    "name": "ipython",
    "version": 3
   },
   "file_extension": ".py",
   "mimetype": "text/x-python",
   "name": "python",
   "nbconvert_exporter": "python",
   "pygments_lexer": "ipython3",
   "version": "3.10.9"
  }
 },
 "nbformat": 4,
 "nbformat_minor": 5
}
